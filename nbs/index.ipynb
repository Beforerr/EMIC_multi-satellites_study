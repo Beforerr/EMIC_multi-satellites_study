{
 "cells": [
  {
   "cell_type": "markdown",
   "metadata": {},
   "source": [
    "---\n",
    "title: Notes\n",
    "---\n",
    "\n",
    "**Motivation**: We observed three strong electron precipitation which lasted for 3 hours from ELFIN missions. We wanted to investigate the cause of the precipitation.\n",
    "\n",
    "## ELFIN\n",
    "\n",
    "See [elf_getspec_crib](http://themis.ssl.berkeley.edu/socware/spedas_5_0/idl/projects/elfin/examples/elf_getspec_crib.pro) and [elf_getspec](http://themis.ssl.berkeley.edu/socware/spedas_5_0/idl/projects/elfin/load_data/elf_getspec.pro) for more info.\n",
    "\n",
    "Notes: On m1 system, I could not run `elf_getspec` directly successfully in Jupyter notebook environments. Probably due to the T89 routine.\n",
    "\n",
    "> The Kernel crashed while executing code in the the current cell or a previous cell\n",
    "\n",
    "\n",
    "- datatype:\n",
    "    - 'pef' stands for 'particle electron function'\n",
    "- type:\n",
    "    - 'raw': unit = 'counts/sector'\n",
    "    - 'cps': unit = 'counts/s'\n",
    "    - 'nflux': unit = '#/(scm!U2!NstrMeV)'\n",
    "    - 'eflux': unit = 'keV/(scm!U2!NstrMeV)'"
   ]
  }
 ],
 "metadata": {
  "kernelspec": {
   "display_name": "python3",
   "language": "python",
   "name": "python3"
  }
 },
 "nbformat": 4,
 "nbformat_minor": 4
}
